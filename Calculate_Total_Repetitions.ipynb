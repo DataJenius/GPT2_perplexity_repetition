{
  "nbformat": 4,
  "nbformat_minor": 0,
  "metadata": {
    "colab": {
      "name": "Calculate Total Repetitions.ipynb",
      "provenance": [],
      "authorship_tag": "ABX9TyMRrXZiAHzbiz87DZQY2eWD",
      "include_colab_link": true
    },
    "kernelspec": {
      "name": "python3",
      "display_name": "Python 3"
    },
    "language_info": {
      "name": "python"
    }
  },
  "cells": [
    {
      "cell_type": "markdown",
      "metadata": {
        "id": "view-in-github",
        "colab_type": "text"
      },
      "source": [
        "<a href=\"https://colab.research.google.com/github/DataJenius/GPT2_perplexity_repetition/blob/main/Calculate_Total_Repetitions.ipynb\" target=\"_parent\"><img src=\"https://colab.research.google.com/assets/colab-badge.svg\" alt=\"Open In Colab\"/></a>"
      ]
    },
    {
      "cell_type": "code",
      "execution_count": null,
      "metadata": {
        "colab": {
          "base_uri": "https://localhost:8080/"
        },
        "id": "Mwx3-m_gwpLt",
        "outputId": "7c38bfb7-e500-46a7-b42a-6cbd0c43c95e"
      },
      "outputs": [
        {
          "output_type": "stream",
          "name": "stdout",
          "text": [
            "('there', 'was', 'a')\n",
            "repeated 1 time(s)...\n",
            "found 1 total repetition(s)...\n",
            "('was', 'a', 'man')\n",
            "repeated 1 time(s)...\n",
            "found 2 total repetition(s)...\n",
            "('and', 'there', 'was')\n",
            "repeated 1 time(s)...\n",
            "found 3 total repetition(s)...\n"
          ]
        }
      ],
      "source": [
        "#------------------------\n",
        "# load all dependencies\n",
        "#------------------------\n",
        "import nltk\n",
        "from nltk.collocations import *\n",
        "from nltk.tokenize import RegexpTokenizer\n",
        "import string\n",
        "\n",
        "#---------------------------------------\n",
        "# Function to calculate Repetitions\n",
        "# and other basic stats\n",
        "#---------------------------------------\n",
        "def calculate_repetitions(my_text, debug=False):\n",
        "  # ignore capitalization and punctuation\n",
        "  clean_text = my_text.lower().translate(str.maketrans('', '', string.punctuation))\n",
        "  character_count = len(my_text)\n",
        "\n",
        "  # word-based tokens (use spaces)\n",
        "  tokenizer = nltk.RegexpTokenizer(r\"\\w+\")\n",
        "  tokens = tokenizer.tokenize(clean_text)\n",
        "  word_count = len(tokens)\n",
        "\n",
        "  # every time a 3gram is repeated +1 to total_repetitions  \n",
        "  finder = TrigramCollocationFinder.from_words(tokens)\n",
        "  total_repetitions = 0\n",
        "  for item in finder.ngram_fd.items():\n",
        "    if item[1] > 1:  # only care about repetition       \n",
        "      repetitions = item[1]-1 # the first use of a trigram is not a repetition\n",
        "      total_repetitions += repetitions   \n",
        "\n",
        "      # just for debugging\n",
        "      if debug:\n",
        "        print(item[0])\n",
        "        print('repeated '+str(repetitions)+' time(s)...')   \n",
        "        print('found '+str(total_repetitions)+' total repetition(s)...')\n",
        "  return(total_repetitions, word_count, character_count)\n",
        "\n",
        "#---------------------------------------\n",
        "# Use our function\n",
        "#---------------------------------------\n",
        "input_string = \"Once upon a time there was a man, and there was woman, and there was a man eating shark.\"\n",
        "total_repetitions, word_count, character_count = calculate_repetitions(input_string,True)"
      ]
    }
  ]
}